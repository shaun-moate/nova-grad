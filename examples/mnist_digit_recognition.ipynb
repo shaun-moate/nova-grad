{
 "cells": [
  {
   "cell_type": "code",
   "execution_count": 1,
   "id": "09b3c829-16bf-4374-8322-c429d0348c52",
   "metadata": {},
   "outputs": [],
   "source": [
    "import torch\n",
    "from torchvision import datasets\n",
    "\n",
    "import time\n",
    "import random\n",
    "import matplotlib.pyplot as plt\n",
    "\n",
    "import numpy as np\n",
    "\n",
    "from novagrad.tensor import Tensor\n",
    "from novagrad.nn import MultiLayerPerceptron"
   ]
  },
  {
   "cell_type": "code",
   "execution_count": 2,
   "id": "5e5f0c33-e857-4cbb-9762-067bdd1f9f81",
   "metadata": {},
   "outputs": [],
   "source": [
    "x_train = datasets.MNIST('./data', train=True, download=True)\n",
    "x_test = datasets.MNIST('./data', train=False, download=True)"
   ]
  },
  {
   "cell_type": "code",
   "execution_count": 3,
   "id": "63e6365a-957c-46dd-9f72-b3983c28ee8b",
   "metadata": {},
   "outputs": [],
   "source": [
    "# Implement small batch (NO EFFICIENCY ON MY MACHINE!!)\n",
    "xs_train = torch.utils.data.Subset(x_train, [x for x in range(5)])\n",
    "xs_test = torch.utils.data.Subset(x_test, [x for x in range(2)])"
   ]
  },
  {
   "cell_type": "code",
   "execution_count": 4,
   "id": "507e6ed3-2483-45dc-965e-92248e569ec1",
   "metadata": {},
   "outputs": [
    {
     "name": "stdout",
     "output_type": "stream",
     "text": [
      "We have 5 images in the training set and 2 images in the test set.\n"
     ]
    }
   ],
   "source": [
    "# Check train and test data\n",
    "print(f\"We have {len(xs_train)} images in the training set and {len(xs_test)} images in the test set.\")"
   ]
  },
  {
   "cell_type": "code",
   "execution_count": 5,
   "id": "237ec94c-47ce-4e2f-9e18-bdd4bdb6e8c6",
   "metadata": {},
   "outputs": [
    {
     "data": {
      "image/png": "[encoded data removed]",
      "text/plain": [
       "<Figure size 300x300 with 1 Axes>"
      ]
     },
     "metadata": {},
     "output_type": "display_data"
    }
   ],
   "source": [
    "# Visualise images\n",
    "index = random.randint(0, len(xs_train))\n",
    "image, target = xs_train[index]\n",
    "\n",
    "plt.figure(figsize=(3, 3))\n",
    "plt.imshow(image, cmap=\"gray\")\n",
    "plt.title(\"target: {} @ index: {}\".format(target, index))\n",
    "plt.axis(False);"
   ]
  },
  {
   "cell_type": "code",
   "execution_count": 6,
   "id": "0cd5e3c7-51ed-4574-bbcf-a382f990bdff",
   "metadata": {},
   "outputs": [],
   "source": [
    "# Load xs (images) and ys (targets) to 1d arrays (normalised with / 255)\n",
    "xs = ((np.asarray(image).flatten() / 255).tolist() for image, target in xs_train)\n",
    "    # flatten as currently don't support 2d layers in nn\n",
    "ys = (np.eye(10, 10, 0)[target].tolist() for image, target in xs_train)"
   ]
  },
  {
   "cell_type": "code",
   "execution_count": 7,
   "id": "fbcaf7f2-e4b5-478c-9d58-d7b920140e98",
   "metadata": {},
   "outputs": [],
   "source": [
    "# Intialise the NN\n",
    "n = MultiLayerPerceptron(784, [128, 10], \"tanh\")"
   ]
  },
  {
   "cell_type": "code",
   "execution_count": null,
   "id": "38240e6d-9ff5-48a8-a678-ee71070ef9e7",
   "metadata": {},
   "outputs": [],
   "source": [
    "# Run the training cycles\n",
    "x = []\n",
    "y = []\n",
    "\n",
    "# 100 epochs takes MANY MANY minutes... need more efficiency plz!\n",
    "for k in range(5):\n",
    "    fstart = time.time()\n",
    "    # forward pass\n",
    "    ypred = [n(x) for x in xs]\n",
    "    fend = time.time()\n",
    "\n",
    "    lstart = time.time()\n",
    "    loss = 0\n",
    "    for i in range(0, len(ys)):\n",
    "        loss += sum([(yout - ygt)**2 for ygt, yout in zip(ys[i], ypred[i])])\n",
    "    lend = time.time()\n",
    "\n",
    "    zstart = time.time()\n",
    "    # zero grad\n",
    "    n.zero_grad()\n",
    "    zend = time.time()\n",
    "\n",
    "    bstart = time.time()\n",
    "    # backward pass\n",
    "    loss.backward()\n",
    "    for p in n.parameters():\n",
    "        p.data += -0.01 * p.grad\n",
    "    bend = time.time()\n",
    "    \n",
    "    # capture loss over the cycles\n",
    "    x.append(k)\n",
    "    y.append(loss.data)\n",
    "\n",
    "    # print progress\n",
    "    print(\"loop: {} forward: {} loss: {} zero: {} backward: {}\".format(k, fend-fstart, lend-lstart, zend-zstart, bend-bstart))"
   ]
  },
  {
   "cell_type": "code",
   "execution_count": 44,
   "id": "414b0486-4707-40e0-8cc4-1ff29dd9b798",
   "metadata": {},
   "outputs": [
    {
     "data": {
      "text/plain": [
       "[<matplotlib.lines.Line2D at 0x7f47f4b65840>]"
      ]
     },
     "execution_count": 44,
     "metadata": {},
     "output_type": "execute_result"
    },
    {
     "data": {
      "image/png": "[encoded data removed]",
      "text/plain": [
       "<Figure size 640x480 with 1 Axes>"
      ]
     },
     "metadata": {},
     "output_type": "display_data"
    }
   ],
   "source": [
    "# Visualise the loss function\n",
    "plt.plot(x, y)"
   ]
  },
  {
   "cell_type": "code",
   "execution_count": 45,
   "id": "ab4f2a67-6eb8-4725-b860-efa544439cf5",
   "metadata": {},
   "outputs": [
    {
     "ename": "IndexError",
     "evalue": "list index out of range",
     "output_type": "error",
     "traceback": [
      "\u001b[0;31m---------------------------------------------------------------------------\u001b[0m",
      "\u001b[0;31mIndexError\u001b[0m                                Traceback (most recent call last)",
      "Cell \u001b[0;32mIn[45], line 2\u001b[0m\n\u001b[1;32m      1\u001b[0m \u001b[38;5;66;03m# Visualise prediction\u001b[39;00m\n\u001b[0;32m----> 2\u001b[0m ypred_float \u001b[38;5;241m=\u001b[39m [x\u001b[38;5;241m.\u001b[39mdata \u001b[38;5;28;01mfor\u001b[39;00m x \u001b[38;5;129;01min\u001b[39;00m \u001b[43mypred\u001b[49m\u001b[43m[\u001b[49m\u001b[43mindex\u001b[49m\u001b[43m]\u001b[49m]\n\u001b[1;32m      3\u001b[0m prediction \u001b[38;5;241m=\u001b[39m ypred_float\u001b[38;5;241m.\u001b[39mindex(\u001b[38;5;28mmax\u001b[39m(ypred_float))\n\u001b[1;32m      5\u001b[0m plt\u001b[38;5;241m.\u001b[39mfigure(figsize\u001b[38;5;241m=\u001b[39m(\u001b[38;5;241m3\u001b[39m, \u001b[38;5;241m3\u001b[39m))\n",
      "\u001b[0;31mIndexError\u001b[0m: list index out of range"
     ]
    }
   ],
   "source": [
    "# Visualise prediction\n",
    "ypred_float = [x.data for x in ypred[index]]\n",
    "prediction = ypred_float.index(max(ypred_float))\n",
    "\n",
    "plt.figure(figsize=(3, 3))\n",
    "plt.imshow(image, cmap=\"gray\")\n",
    "plt.title(\"target: {} @ prediction: {}\".format(target, prediction))\n",
    "plt.axis(False);"
   ]
  },
  {
   "cell_type": "code",
   "execution_count": 46,
   "id": "5da7fe83-d8b2-4e73-99bc-e1e7678b7ca3",
   "metadata": {},
   "outputs": [
    {
     "ename": "ZeroDivisionError",
     "evalue": "division by zero",
     "output_type": "error",
     "traceback": [
      "\u001b[0;31m---------------------------------------------------------------------------\u001b[0m",
      "\u001b[0;31mZeroDivisionError\u001b[0m                         Traceback (most recent call last)",
      "Cell \u001b[0;32mIn[46], line 15\u001b[0m\n\u001b[1;32m     13\u001b[0m comp \u001b[38;5;241m=\u001b[39m \u001b[38;5;28mlist\u001b[39m(\u001b[38;5;28mzip\u001b[39m(yss, ypreds))\n\u001b[1;32m     14\u001b[0m correct \u001b[38;5;241m=\u001b[39m [x \u001b[38;5;241m==\u001b[39m y \u001b[38;5;28;01mfor\u001b[39;00m x, y \u001b[38;5;129;01min\u001b[39;00m comp]\n\u001b[0;32m---> 15\u001b[0m accuracy \u001b[38;5;241m=\u001b[39m \u001b[38;5;28;43msum\u001b[39;49m\u001b[43m(\u001b[49m\u001b[43mcorrect\u001b[49m\u001b[43m)\u001b[49m\u001b[43m \u001b[49m\u001b[38;5;241;43m/\u001b[39;49m\u001b[43m \u001b[49m\u001b[38;5;28;43mlen\u001b[39;49m\u001b[43m(\u001b[49m\u001b[43mcomp\u001b[49m\u001b[43m)\u001b[49m\n\u001b[1;32m     17\u001b[0m \u001b[38;5;28mprint\u001b[39m(\u001b[38;5;124m\"\u001b[39m\u001b[38;5;124mAccuracy = \u001b[39m\u001b[38;5;132;01m{}\u001b[39;00m\u001b[38;5;124m\"\u001b[39m\u001b[38;5;241m.\u001b[39mformat(accuracy))\n\u001b[1;32m     18\u001b[0m \u001b[38;5;28mprint\u001b[39m(comp)\n",
      "\u001b[0;31mZeroDivisionError\u001b[0m: division by zero"
     ]
    }
   ],
   "source": [
    "# Calculate the accuracy\n",
    "tmp = []\n",
    "ypreds_tmp = []\n",
    "for y in ypred:\n",
    "    tmp = []\n",
    "    for x in y:\n",
    "        tmp.append(x.data)\n",
    "    ypreds_tmp.append(tmp)\n",
    "\n",
    "yss = [target for image, target in xs_train]\n",
    "ypreds = [x.index(max(x)) for x in ypreds_tmp]\n",
    "\n",
    "comp = list(zip(yss, ypreds))\n",
    "correct = [x == y for x, y in comp]\n",
    "accuracy = sum(correct) / len(comp)\n",
    "\n",
    "print(\"Accuracy = {}\".format(accuracy))\n",
    "print(comp)"
   ]
  },
  {
   "cell_type": "markdown",
   "id": "caabb544-916b-48b0-b301-bcb1a19f4041",
   "metadata": {},
   "source": [
    "# "
   ]
  }
 ],
 "metadata": {
  "kernelspec": {
   "display_name": "Python 3 (ipykernel)",
   "language": "python",
   "name": "python3"
  },
  "language_info": {
   "codemirror_mode": {
    "name": "ipython",
    "version": 3
   },
   "file_extension": ".py",
   "mimetype": "text/x-python",
   "name": "python",
   "nbconvert_exporter": "python",
   "pygments_lexer": "ipython3",
   "version": "3.10.10"
  }
 },
 "nbformat": 4,
 "nbformat_minor": 5
}
