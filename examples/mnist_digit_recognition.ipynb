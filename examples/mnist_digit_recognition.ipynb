{
 "cells": [
  {
   "cell_type": "code",
   "execution_count": 1,
   "id": "09b3c829-16bf-4374-8322-c429d0348c52",
   "metadata": {},
   "outputs": [],
   "source": [
    "import torch\n",
    "from torchvision import datasets\n",
    "\n",
    "import random\n",
    "import matplotlib.pyplot as plt\n",
    "\n",
    "import numpy as np\n",
    "\n",
    "from nova_grad.engine import Scalar\n",
    "from nova_grad.nn import MultiLayerPerceptron"
   ]
  },
  {
   "cell_type": "code",
   "execution_count": 2,
   "id": "5e5f0c33-e857-4cbb-9762-067bdd1f9f81",
   "metadata": {},
   "outputs": [],
   "source": [
    "x_train = datasets.MNIST('./data', train=True, download=True)\n",
    "x_test = datasets.MNIST('./data', train=False, download=True)"
   ]
  },
  {
   "cell_type": "code",
   "execution_count": 3,
   "id": "63e6365a-957c-46dd-9f72-b3983c28ee8b",
   "metadata": {},
   "outputs": [],
   "source": [
    "# Implement small batch (NO EFFICIENCY ON MY MACHINE!!)\n",
    "xs_train = torch.utils.data.Subset(x_train, [x for x in range(25)])\n",
    "xs_test = torch.utils.data.Subset(x_test, [x for x in range(2)])"
   ]
  },
  {
   "cell_type": "code",
   "execution_count": 4,
   "id": "507e6ed3-2483-45dc-965e-92248e569ec1",
   "metadata": {},
   "outputs": [
    {
     "name": "stdout",
     "output_type": "stream",
     "text": [
      "We have 25 images in the training set and 2 images in the test set.\n"
     ]
    }
   ],
   "source": [
    "# Check train and test data\n",
    "print(f\"We have {len(xs_train)} images in the training set and {len(xs_test)} images in the test set.\")"
   ]
  },
  {
   "cell_type": "code",
   "execution_count": 5,
   "id": "237ec94c-47ce-4e2f-9e18-bdd4bdb6e8c6",
   "metadata": {},
   "outputs": [
    {
     "data": {
      "image/png": "[encoded data removed]",
      "text/plain": [
       "<Figure size 300x300 with 1 Axes>"
      ]
     },
     "metadata": {},
     "output_type": "display_data"
    }
   ],
   "source": [
    "# Visualise images\n",
    "index = random.randint(0, len(xs_train))\n",
    "image, target = xs_train[index]\n",
    "\n",
    "plt.figure(figsize=(3, 3))\n",
    "plt.imshow(image, cmap=\"gray\")\n",
    "plt.title(\"target: {} @ index: {}\".format(target, index))\n",
    "plt.axis(False);"
   ]
  },
  {
   "cell_type": "code",
   "execution_count": 6,
   "id": "0cd5e3c7-51ed-4574-bbcf-a382f990bdff",
   "metadata": {},
   "outputs": [],
   "source": [
    "# Load xs (images) and ys (targets) to 1d arrays (normalised with / 255)\n",
    "xs = [(np.asarray(image).flatten() / 255).tolist() for image, target in xs_train]\n",
    "    # flatten as currently don't support 2d layers in nn\n",
    "ys = [np.eye(10, 10, 0)[target].tolist() for image, target in xs_train]"
   ]
  },
  {
   "cell_type": "code",
   "execution_count": 7,
   "id": "c1d3ceec-a566-4b13-a437-4950d815a429",
   "metadata": {},
   "outputs": [],
   "source": [
    "# Convert values to Scalars....\n",
    "tmp = []\n",
    "xs_x = []\n",
    "ys_x = []\n",
    "\n",
    "for a in xs:\n",
    "    tmp = []\n",
    "    for x in a:\n",
    "        tmp.append(Scalar(x))\n",
    "    xs_x.append(tmp)\n",
    "\n",
    "for a in ys:\n",
    "    tmp = []\n",
    "    for y in a:\n",
    "        tmp.append(Scalar(y))\n",
    "    ys_x.append(tmp)\n",
    "\n",
    "#xs = [Scalar(x) for a in xs for x in a]\n",
    "#ys = [Scalar(y) for array in ys for y in a]"
   ]
  },
  {
   "cell_type": "code",
   "execution_count": 8,
   "id": "fbcaf7f2-e4b5-478c-9d58-d7b920140e98",
   "metadata": {},
   "outputs": [],
   "source": [
    "# Intialise the NN\n",
    "n = MultiLayerPerceptron(784, [128, 10], \"tanh\")"
   ]
  },
  {
   "cell_type": "code",
   "execution_count": null,
   "id": "38240e6d-9ff5-48a8-a678-ee71070ef9e7",
   "metadata": {},
   "outputs": [],
   "source": [
    "# Run the training cycles\n",
    "x = []\n",
    "y = []\n",
    "\n",
    "# 100 epochs takes MANY MANY minutes... need more efficiency plz!\n",
    "for k in range(5):\n",
    "    # forward pass\n",
    "    ypred = [n(x) for x in xs_x]\n",
    "    loss = 0\n",
    "    for i in range(0, len(ys)):\n",
    "        loss += sum([(yout - ygt)**2 for ygt, yout in zip(ys[i], ypred[i])])\n",
    "    \n",
    "    # zero grad\n",
    "    n.zero_grad()\n",
    "    loss.backward()\n",
    "\n",
    "    # backward pass\n",
    "    for p in n.parameters():\n",
    "        p.data += -0.01 * p.grad\n",
    "\n",
    "    # capture loss over the cycles\n",
    "    x.append(k)\n",
    "    y.append(loss.data)"
   ]
  },
  {
   "cell_type": "code",
   "execution_count": null,
   "id": "414b0486-4707-40e0-8cc4-1ff29dd9b798",
   "metadata": {},
   "outputs": [],
   "source": [
    "# Visualise the loss function\n",
    "plt.plot(x, y)"
   ]
  },
  {
   "cell_type": "code",
   "execution_count": null,
   "id": "ab4f2a67-6eb8-4725-b860-efa544439cf5",
   "metadata": {},
   "outputs": [],
   "source": [
    "# Visualise prediction\n",
    "ypred_float = [x.data for x in ypred[index]]\n",
    "prediction = ypred_float.index(max(ypred_float))\n",
    "\n",
    "plt.figure(figsize=(3, 3))\n",
    "plt.imshow(image, cmap=\"gray\")\n",
    "plt.title(\"target: {} @ prediction: {}\".format(target, prediction))\n",
    "plt.axis(False);"
   ]
  },
  {
   "cell_type": "code",
   "execution_count": null,
   "id": "5da7fe83-d8b2-4e73-99bc-e1e7678b7ca3",
   "metadata": {},
   "outputs": [],
   "source": [
    "# Calculate the accuracy\n",
    "tmp = []\n",
    "ypreds_tmp = []\n",
    "for y in ypred:\n",
    "    tmp = []\n",
    "    for x in y:\n",
    "        tmp.append(x.data)\n",
    "    ypreds_tmp.append(tmp)\n",
    "\n",
    "yss = [target for image, target in xs_train]\n",
    "ypreds = [x.index(max(x)) for x in ypreds_tmp]\n",
    "\n",
    "comp = list(zip(yss, ypreds))\n",
    "correct = [x == y for x, y in comp]\n",
    "accuracy = sum(correct) / len(comp)\n",
    "\n",
    "print(\"Accuracy = {}\".format(accuracy))\n",
    "print(comp)"
   ]
  },
  {
   "cell_type": "code",
   "execution_count": null,
   "id": "eb7f7390-cc96-48d8-951f-bd129cc784f2",
   "metadata": {},
   "outputs": [],
   "source": []
  }
 ],
 "metadata": {
  "kernelspec": {
   "display_name": "Python 3 (ipykernel)",
   "language": "python",
   "name": "python3"
  },
  "language_info": {
   "codemirror_mode": {
    "name": "ipython",
    "version": 3
   },
   "file_extension": ".py",
   "mimetype": "text/x-python",
   "name": "python",
   "nbconvert_exporter": "python",
   "pygments_lexer": "ipython3",
   "version": "3.10.10"
  }
 },
 "nbformat": 4,
 "nbformat_minor": 5
}
