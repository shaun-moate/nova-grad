{
 "cells": [
  {
   "cell_type": "markdown",
   "id": "9d83b237-8193-482b-9516-34585b48d295",
   "metadata": {},
   "source": [
    "#### STEP 0: Import nova_grad library"
   ]
  },
  {
   "cell_type": "code",
   "execution_count": 37,
   "id": "237ec94c-47ce-4e2f-9e18-bdd4bdb6e8c6",
   "metadata": {},
   "outputs": [],
   "source": [
    "from nova_grad.neural_network import MultiLayerPerceptron\n",
    "import matplotlib.pyplot as plt"
   ]
  },
  {
   "cell_type": "markdown",
   "id": "adb6bb62-cc65-43b9-8766-21708b1bdc71",
   "metadata": {},
   "source": [
    "#### STEP 1: Set out the training data and desired predictions "
   ]
  },
  {
   "cell_type": "code",
   "execution_count": 38,
   "id": "42a2a9b5-66c0-4d9e-b866-9611c0204b87",
   "metadata": {},
   "outputs": [],
   "source": [
    "xs = [\n",
    "    [2.0, 3.0, -1.0],\n",
    "    [-3.0, 7.0, 4.0],\n",
    "    [1.0, -9.0, 3.0],\n",
    "    [5.0, 13.0, 1.0]\n",
    "]\n",
    "ys = [1.0, -1.0, -1.0, 1.0]"
   ]
  },
  {
   "cell_type": "markdown",
   "id": "5d0c9e35-3e43-4151-9459-3a810c134e0d",
   "metadata": {},
   "source": [
    "#### STEP 2: Initialise a MultiLayerPerceptron NN"
   ]
  },
  {
   "cell_type": "code",
   "execution_count": 39,
   "id": "bbd4c060-1b82-408b-810a-e2cf1288a533",
   "metadata": {},
   "outputs": [],
   "source": [
    "n = MultiLayerPerceptron(3, [4, 4, 1])"
   ]
  },
  {
   "cell_type": "markdown",
   "id": "fb4935ab-b7cb-4831-a24d-f9573971b977",
   "metadata": {},
   "source": [
    "#### STEP 3: Make an initial prediction using the NN, with random weights and bias'"
   ]
  },
  {
   "cell_type": "code",
   "execution_count": 40,
   "id": "8af0a5f9-70e3-4d6a-9e24-b49d0ae58ecc",
   "metadata": {},
   "outputs": [
    {
     "data": {
      "text/plain": [
       "[Scalar(0.208), Scalar(0.350), Scalar(0.267), Scalar(0.248)]"
      ]
     },
     "execution_count": 40,
     "metadata": {},
     "output_type": "execute_result"
    }
   ],
   "source": [
    "ypred = [n(x) for x in xs]\n",
    "ypred"
   ]
  },
  {
   "cell_type": "markdown",
   "id": "5e8c389c-4d45-4761-bbfb-83bc75ab203b",
   "metadata": {},
   "source": [
    "#### STEP 4: Run 500 forward/backprop cycles and observe the reduction in the loss function"
   ]
  },
  {
   "cell_type": "code",
   "execution_count": 41,
   "id": "38240e6d-9ff5-48a8-a678-ee71070ef9e7",
   "metadata": {},
   "outputs": [],
   "source": [
    "x = []\n",
    "y = []\n",
    "\n",
    "for k in range(100):\n",
    "    # forward pass\n",
    "    ypred = [n(x) for x in xs]\n",
    "    loss = sum([(yout - ygt)**2 for ygt, yout in zip(ys, ypred)])\n",
    "    \n",
    "    # zero grad\n",
    "    n.zero_grad()\n",
    "    loss.backward()\n",
    "\n",
    "    # backward pass\n",
    "    for p in n.parameters():\n",
    "        p.data += -0.05 * p.grad\n",
    "\n",
    "    # capture loss over the cycles\n",
    "    x.append(k)\n",
    "    y.append(loss.data)"
   ]
  },
  {
   "cell_type": "markdown",
   "id": "0f1bbda5-7b8b-43c0-b012-04e6ab813fec",
   "metadata": {},
   "source": [
    "#### STEP 5: Visualise the gradient descent"
   ]
  },
  {
   "cell_type": "code",
   "execution_count": 42,
   "id": "414b0486-4707-40e0-8cc4-1ff29dd9b798",
   "metadata": {},
   "outputs": [
    {
     "data": {
      "text/plain": [
       "[<matplotlib.lines.Line2D at 0x7f9d79110e50>]"
      ]
     },
     "execution_count": 42,
     "metadata": {},
     "output_type": "execute_result"
    },
    {
     "data": {
      "image/png": "[encoded data removed]",
      "text/plain": [
       "<Figure size 640x480 with 1 Axes>"
      ]
     },
     "metadata": {},
     "output_type": "display_data"
    }
   ],
   "source": [
    "plt.plot(x, y)"
   ]
  },
  {
   "cell_type": "markdown",
   "id": "9d5f61f6-78df-41d3-8a08-1e3342d9f387",
   "metadata": {},
   "source": [
    "#### STEP 6: Compare the predictions and the desired outcomes to see improvements"
   ]
  },
  {
   "cell_type": "code",
   "execution_count": 43,
   "id": "760d7d8e-b51f-480c-98d2-81604debe4fb",
   "metadata": {},
   "outputs": [
    {
     "data": {
      "text/plain": [
       "[(Scalar(0.960), 1.0),\n",
       " (Scalar(-0.959), -1.0),\n",
       " (Scalar(-0.988), -1.0),\n",
       " (Scalar(0.964), 1.0)]"
      ]
     },
     "execution_count": 43,
     "metadata": {},
     "output_type": "execute_result"
    }
   ],
   "source": [
    "list(zip(ypred, ys))"
   ]
  }
 ],
 "metadata": {
  "kernelspec": {
   "display_name": "Python 3 (ipykernel)",
   "language": "python",
   "name": "python3"
  },
  "language_info": {
   "codemirror_mode": {
    "name": "ipython",
    "version": 3
   },
   "file_extension": ".py",
   "mimetype": "text/x-python",
   "name": "python",
   "nbconvert_exporter": "python",
   "pygments_lexer": "ipython3",
   "version": "3.10.10"
  }
 },
 "nbformat": 4,
 "nbformat_minor": 5
}
